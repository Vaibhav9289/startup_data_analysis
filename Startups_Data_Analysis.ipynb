{
 "cells": [
  {
   "cell_type": "markdown",
   "id": "b2489389",
   "metadata": {},
   "source": [
    "# Startup Data Analysis\n",
    "### Case Study Part-I \n",
    "#### Part of ML Course by Coding Ninjas"
   ]
  },
  {
   "cell_type": "code",
   "execution_count": 2,
   "id": "5c2d996c",
   "metadata": {},
   "outputs": [],
   "source": [
    "import pandas as pd\n",
    "import matplotlib.pyplot as plt\n",
    "import seaborn as sns\n",
    "import numpy as np\n",
    "sns.set()"
   ]
  },
  {
   "cell_type": "code",
   "execution_count": 3,
   "id": "9f989d5f",
   "metadata": {},
   "outputs": [],
   "source": [
    "data=pd.read_csv(\"startup_funding.csv\")"
   ]
  },
  {
   "cell_type": "code",
   "execution_count": 4,
   "id": "04de33ad",
   "metadata": {},
   "outputs": [
    {
     "data": {
      "text/plain": [
       "(2372, 10)"
      ]
     },
     "execution_count": 4,
     "metadata": {},
     "output_type": "execute_result"
    }
   ],
   "source": [
    "data.shape"
   ]
  },
  {
   "cell_type": "code",
   "execution_count": 5,
   "id": "0052bd73",
   "metadata": {},
   "outputs": [
    {
     "data": {
      "text/html": [
       "<div>\n",
       "<style scoped>\n",
       "    .dataframe tbody tr th:only-of-type {\n",
       "        vertical-align: middle;\n",
       "    }\n",
       "\n",
       "    .dataframe tbody tr th {\n",
       "        vertical-align: top;\n",
       "    }\n",
       "\n",
       "    .dataframe thead th {\n",
       "        text-align: right;\n",
       "    }\n",
       "</style>\n",
       "<table border=\"1\" class=\"dataframe\">\n",
       "  <thead>\n",
       "    <tr style=\"text-align: right;\">\n",
       "      <th></th>\n",
       "      <th>SNo</th>\n",
       "      <th>Date</th>\n",
       "      <th>StartupName</th>\n",
       "      <th>IndustryVertical</th>\n",
       "      <th>SubVertical</th>\n",
       "      <th>CityLocation</th>\n",
       "      <th>InvestorsName</th>\n",
       "      <th>InvestmentType</th>\n",
       "      <th>AmountInUSD</th>\n",
       "      <th>Remarks</th>\n",
       "    </tr>\n",
       "  </thead>\n",
       "  <tbody>\n",
       "    <tr>\n",
       "      <th>0</th>\n",
       "      <td>0</td>\n",
       "      <td>01/08/2017</td>\n",
       "      <td>TouchKin</td>\n",
       "      <td>Technology</td>\n",
       "      <td>Predictive Care Platform</td>\n",
       "      <td>Bangalore</td>\n",
       "      <td>Kae Capital</td>\n",
       "      <td>Private Equity</td>\n",
       "      <td>1,300,000</td>\n",
       "      <td>NaN</td>\n",
       "    </tr>\n",
       "    <tr>\n",
       "      <th>1</th>\n",
       "      <td>1</td>\n",
       "      <td>02/08/2017</td>\n",
       "      <td>Ethinos</td>\n",
       "      <td>Technology</td>\n",
       "      <td>Digital Marketing Agency</td>\n",
       "      <td>Mumbai</td>\n",
       "      <td>Triton Investment Advisors</td>\n",
       "      <td>Private Equity</td>\n",
       "      <td>NaN</td>\n",
       "      <td>NaN</td>\n",
       "    </tr>\n",
       "    <tr>\n",
       "      <th>2</th>\n",
       "      <td>2</td>\n",
       "      <td>02/08/2017</td>\n",
       "      <td>Leverage Edu</td>\n",
       "      <td>Consumer Internet</td>\n",
       "      <td>Online platform for Higher Education Services</td>\n",
       "      <td>New Delhi</td>\n",
       "      <td>Kashyap Deorah, Anand Sankeshwar, Deepak Jain,...</td>\n",
       "      <td>Seed Funding</td>\n",
       "      <td>NaN</td>\n",
       "      <td>NaN</td>\n",
       "    </tr>\n",
       "    <tr>\n",
       "      <th>3</th>\n",
       "      <td>3</td>\n",
       "      <td>02/08/2017</td>\n",
       "      <td>Zepo</td>\n",
       "      <td>Consumer Internet</td>\n",
       "      <td>DIY Ecommerce platform</td>\n",
       "      <td>Mumbai</td>\n",
       "      <td>Kunal Shah, LetsVenture, Anupam Mittal, Hetal ...</td>\n",
       "      <td>Seed Funding</td>\n",
       "      <td>500,000</td>\n",
       "      <td>NaN</td>\n",
       "    </tr>\n",
       "    <tr>\n",
       "      <th>4</th>\n",
       "      <td>4</td>\n",
       "      <td>02/08/2017</td>\n",
       "      <td>Click2Clinic</td>\n",
       "      <td>Consumer Internet</td>\n",
       "      <td>healthcare service aggregator</td>\n",
       "      <td>Hyderabad</td>\n",
       "      <td>Narottam Thudi, Shireesh Palle</td>\n",
       "      <td>Seed Funding</td>\n",
       "      <td>850,000</td>\n",
       "      <td>NaN</td>\n",
       "    </tr>\n",
       "  </tbody>\n",
       "</table>\n",
       "</div>"
      ],
      "text/plain": [
       "   SNo        Date   StartupName   IndustryVertical  \\\n",
       "0    0  01/08/2017      TouchKin         Technology   \n",
       "1    1  02/08/2017       Ethinos         Technology   \n",
       "2    2  02/08/2017  Leverage Edu  Consumer Internet   \n",
       "3    3  02/08/2017          Zepo  Consumer Internet   \n",
       "4    4  02/08/2017  Click2Clinic  Consumer Internet   \n",
       "\n",
       "                                     SubVertical CityLocation  \\\n",
       "0                       Predictive Care Platform    Bangalore   \n",
       "1                       Digital Marketing Agency       Mumbai   \n",
       "2  Online platform for Higher Education Services    New Delhi   \n",
       "3                         DIY Ecommerce platform       Mumbai   \n",
       "4                  healthcare service aggregator    Hyderabad   \n",
       "\n",
       "                                       InvestorsName  InvestmentType  \\\n",
       "0                                        Kae Capital  Private Equity   \n",
       "1                         Triton Investment Advisors  Private Equity   \n",
       "2  Kashyap Deorah, Anand Sankeshwar, Deepak Jain,...    Seed Funding   \n",
       "3  Kunal Shah, LetsVenture, Anupam Mittal, Hetal ...    Seed Funding   \n",
       "4                     Narottam Thudi, Shireesh Palle    Seed Funding   \n",
       "\n",
       "  AmountInUSD Remarks  \n",
       "0   1,300,000     NaN  \n",
       "1         NaN     NaN  \n",
       "2         NaN     NaN  \n",
       "3     500,000     NaN  \n",
       "4     850,000     NaN  "
      ]
     },
     "execution_count": 5,
     "metadata": {},
     "output_type": "execute_result"
    }
   ],
   "source": [
    "data.head()"
   ]
  },
  {
   "cell_type": "code",
   "execution_count": 6,
   "id": "9b8cb2bd",
   "metadata": {},
   "outputs": [
    {
     "data": {
      "text/plain": [
       "SNo                    0\n",
       "Date                   0\n",
       "StartupName            0\n",
       "IndustryVertical     171\n",
       "SubVertical          936\n",
       "CityLocation         179\n",
       "InvestorsName          8\n",
       "InvestmentType         1\n",
       "AmountInUSD          847\n",
       "Remarks             1953\n",
       "dtype: int64"
      ]
     },
     "execution_count": 6,
     "metadata": {},
     "output_type": "execute_result"
    }
   ],
   "source": [
    "data.isnull().sum()"
   ]
  },
  {
   "cell_type": "markdown",
   "id": "c5833b1e",
   "metadata": {},
   "source": [
    "### Number of Fundings Year Wise"
   ]
  },
  {
   "cell_type": "code",
   "execution_count": 7,
   "id": "eafe9f4b",
   "metadata": {},
   "outputs": [
    {
     "name": "stdout",
     "output_type": "stream",
     "text": [
      "<class 'pandas.core.frame.DataFrame'>\n",
      "RangeIndex: 2372 entries, 0 to 2371\n",
      "Data columns (total 10 columns):\n",
      " #   Column            Non-Null Count  Dtype \n",
      "---  ------            --------------  ----- \n",
      " 0   SNo               2372 non-null   int64 \n",
      " 1   Date              2372 non-null   object\n",
      " 2   StartupName       2372 non-null   object\n",
      " 3   IndustryVertical  2201 non-null   object\n",
      " 4   SubVertical       1436 non-null   object\n",
      " 5   CityLocation      2193 non-null   object\n",
      " 6   InvestorsName     2364 non-null   object\n",
      " 7   InvestmentType    2371 non-null   object\n",
      " 8   AmountInUSD       1525 non-null   object\n",
      " 9   Remarks           419 non-null    object\n",
      "dtypes: int64(1), object(9)\n",
      "memory usage: 185.4+ KB\n"
     ]
    }
   ],
   "source": [
    "data.info()"
   ]
  },
  {
   "cell_type": "code",
   "execution_count": 8,
   "id": "7cd67fc1",
   "metadata": {},
   "outputs": [],
   "source": [
    "data['Date']=data['Date'].str.replace('.','/')\n",
    "data['Date']=data['Date'].str.replace('//','/')\n",
    "\n",
    "data['Date']=pd.to_datetime(data['Date'],dayfirst=True,format=\"%d/%m/%Y\")\n",
    "data['Year']=data['Date'].dt.year"
   ]
  },
  {
   "cell_type": "code",
   "execution_count": 9,
   "id": "fe01b324",
   "metadata": {},
   "outputs": [
    {
     "data": {
      "text/plain": [
       "Year\n",
       "2015    936\n",
       "2016    993\n",
       "2017    443\n",
       "Name: Date, dtype: int64"
      ]
     },
     "execution_count": 9,
     "metadata": {},
     "output_type": "execute_result"
    }
   ],
   "source": [
    "grp_data_year=data.groupby('Year').count()\n",
    "grp_data_year['Date']"
   ]
  },
  {
   "cell_type": "code",
   "execution_count": 10,
   "id": "79319a11",
   "metadata": {},
   "outputs": [
    {
     "data": {
      "image/png": "[encoded data removed]",
      "text/plain": [
       "<Figure size 640x480 with 1 Axes>"
      ]
     },
     "metadata": {},
     "output_type": "display_data"
    }
   ],
   "source": [
    "plt.plot(grp_data_year.index,grp_data_year['Date'])\n",
    "plt.xticks([2015,2016,2017])\n",
    "plt.xlabel(\"Year\")\n",
    "plt.ylabel(\"Number of Fundings\")\n",
    "plt.title(\"Number of Fundings by Year\")\n",
    "plt.show()"
   ]
  },
  {
   "cell_type": "markdown",
   "id": "b421356f",
   "metadata": {},
   "source": [
    "### Top Cities to get Funding"
   ]
  },
  {
   "cell_type": "code",
   "execution_count": 11,
   "id": "2f190e0f",
   "metadata": {},
   "outputs": [],
   "source": [
    "data['CityLocation']=data['CityLocation'].str.lower()\n",
    "data['CityLocation']=data['CityLocation'].str.replace(\" new delhi\",\"delhi\")\n",
    "data['CityLocation']=data['CityLocation'].str.replace(\"delhi\",\"new delhi\")\n",
    "data['CityLocation']=data['CityLocation'].str.capitalize()"
   ]
  },
  {
   "cell_type": "code",
   "execution_count": 12,
   "id": "67ee1cb3",
   "metadata": {},
   "outputs": [
    {
     "data": {
      "text/plain": [
       "CityLocation\n",
       "Bangalore        628\n",
       "Mumbai           446\n",
       "New new delhi    381\n",
       "Gurgaon          240\n",
       "Pune              84\n",
       "Noida             78\n",
       "Hyderabad         76\n",
       "Chennai           66\n",
       "Ahmedabad         35\n",
       "Jaipur            25\n",
       "Name: count, dtype: int64"
      ]
     },
     "execution_count": 12,
     "metadata": {},
     "output_type": "execute_result"
    }
   ],
   "source": [
    "grp_data_city=data['CityLocation'].value_counts()[:10]\n",
    "grp_data_city"
   ]
  },
  {
   "cell_type": "code",
   "execution_count": 13,
   "id": "4646068c",
   "metadata": {},
   "outputs": [
    {
     "data": {
      "image/png": "[encoded data removed]",
      "text/plain": [
       "<Figure size 640x480 with 1 Axes>"
      ]
     },
     "metadata": {},
     "output_type": "display_data"
    }
   ],
   "source": [
    "plt.pie(grp_data_city,labels=grp_data_city.index)\n",
    "plt.title(\"Top 10 Indian Cities to get Funding\")\n",
    "plt.show()"
   ]
  },
  {
   "cell_type": "markdown",
   "id": "31e1ed19",
   "metadata": {},
   "source": [
    "### Investment Type Distribution"
   ]
  },
  {
   "cell_type": "code",
   "execution_count": 14,
   "id": "9cecde86",
   "metadata": {},
   "outputs": [],
   "source": [
    "data['InvestmentType']=data['InvestmentType'].map({\n",
    "        'Seed Funding':'Seed Funding',\n",
    "'Private Equity':'Private Equity',\n",
    "'SeedFunding':'Seed Funding',\n",
    "'Debt Funding':\"Debt Funding\",\n",
    "'PrivateEquity':'Private Equity',\n",
    "'Crowd funding:':'Crowd Funding',\n",
    "'Crowd Funding':'Crowd Funding'\n",
    "})"
   ]
  },
  {
   "cell_type": "code",
   "execution_count": null,
   "id": "5374d8bf",
   "metadata": {},
   "outputs": [],
   "source": []
  },
  {
   "cell_type": "code",
   "execution_count": 15,
   "id": "0b287f74",
   "metadata": {},
   "outputs": [],
   "source": [
    "grp_data_type=np.round(data['InvestmentType'].value_counts(normalize=True)*100,2)\n",
    "grp_data_type=grp_data_type.iloc[[1,2,0,3]]"
   ]
  },
  {
   "cell_type": "code",
   "execution_count": 16,
   "id": "8aeb4375",
   "metadata": {},
   "outputs": [
    {
     "data": {
      "image/png": "[encoded data removed]",
      "text/plain": [
       "<Figure size 640x480 with 1 Axes>"
      ]
     },
     "metadata": {},
     "output_type": "display_data"
    }
   ],
   "source": [
    "plt.pie(grp_data_type,labels=grp_data_type.index,labeldistance=1.05,\n",
    "        wedgeprops=dict(width=0.6),autopct='%.2f%%')\n",
    "plt.title(\"Distribution of Investment Type\")\n",
    "plt.show()"
   ]
  },
  {
   "cell_type": "markdown",
   "id": "a760a0b4",
   "metadata": {},
   "source": [
    "### Top Industries"
   ]
  },
  {
   "cell_type": "code",
   "execution_count": 17,
   "id": "e0a6a23a",
   "metadata": {},
   "outputs": [],
   "source": [
    "data['AmountInUSD']=data['AmountInUSD'].str.replace(',','')\n",
    "data['IndustryVertical']=data['IndustryVertical'].str.replace('eCommerce','ECommerce')\n",
    "\n",
    "data['AmountInUSD']=data['AmountInUSD'].astype(float)\n",
    "grp_data_industry=data[['AmountInUSD','IndustryVertical']].groupby(\"IndustryVertical\").sum()\n",
    "\n",
    "grp_data_industry=grp_data_industry.sort_values(\"AmountInUSD\",ascending=False)[:10]"
   ]
  },
  {
   "cell_type": "code",
   "execution_count": 18,
   "id": "268ff9b0",
   "metadata": {},
   "outputs": [
    {
     "data": {
      "text/html": [
       "<div>\n",
       "<style scoped>\n",
       "    .dataframe tbody tr th:only-of-type {\n",
       "        vertical-align: middle;\n",
       "    }\n",
       "\n",
       "    .dataframe tbody tr th {\n",
       "        vertical-align: top;\n",
       "    }\n",
       "\n",
       "    .dataframe thead th {\n",
       "        text-align: right;\n",
       "    }\n",
       "</style>\n",
       "<table border=\"1\" class=\"dataframe\">\n",
       "  <thead>\n",
       "    <tr style=\"text-align: right;\">\n",
       "      <th></th>\n",
       "      <th>Funding in million USD</th>\n",
       "    </tr>\n",
       "    <tr>\n",
       "      <th>IndustryVertical</th>\n",
       "      <th></th>\n",
       "    </tr>\n",
       "  </thead>\n",
       "  <tbody>\n",
       "    <tr>\n",
       "      <th>ECommerce</th>\n",
       "      <td>4277.109608</td>\n",
       "    </tr>\n",
       "    <tr>\n",
       "      <th>Consumer Internet</th>\n",
       "      <td>3797.089000</td>\n",
       "    </tr>\n",
       "    <tr>\n",
       "      <th>Technology</th>\n",
       "      <td>1103.593500</td>\n",
       "    </tr>\n",
       "    <tr>\n",
       "      <th>Online Marketplace</th>\n",
       "      <td>700.000000</td>\n",
       "    </tr>\n",
       "    <tr>\n",
       "      <th>E-Commerce &amp; M-Commerce platform</th>\n",
       "      <td>680.000000</td>\n",
       "    </tr>\n",
       "    <tr>\n",
       "      <th>Car Aggregator &amp; Retail Mobile App</th>\n",
       "      <td>500.000000</td>\n",
       "    </tr>\n",
       "    <tr>\n",
       "      <th>Ecommerce Marketplace</th>\n",
       "      <td>500.000000</td>\n",
       "    </tr>\n",
       "    <tr>\n",
       "      <th>Cab Aggregator</th>\n",
       "      <td>400.000000</td>\n",
       "    </tr>\n",
       "    <tr>\n",
       "      <th>Cab rental Mobile app</th>\n",
       "      <td>225.000000</td>\n",
       "    </tr>\n",
       "    <tr>\n",
       "      <th>Logistics</th>\n",
       "      <td>180.645000</td>\n",
       "    </tr>\n",
       "  </tbody>\n",
       "</table>\n",
       "</div>"
      ],
      "text/plain": [
       "                                    Funding in million USD\n",
       "IndustryVertical                                          \n",
       "ECommerce                                      4277.109608\n",
       "Consumer Internet                              3797.089000\n",
       "Technology                                     1103.593500\n",
       "Online Marketplace                              700.000000\n",
       "E-Commerce & M-Commerce platform                680.000000\n",
       "Car Aggregator & Retail Mobile App              500.000000\n",
       "Ecommerce Marketplace                           500.000000\n",
       "Cab Aggregator                                  400.000000\n",
       "Cab rental Mobile app                           225.000000\n",
       "Logistics                                       180.645000"
      ]
     },
     "execution_count": 18,
     "metadata": {},
     "output_type": "execute_result"
    }
   ],
   "source": [
    "grp_data_industry.rename(columns={'AmountInUSD':\"Funding in million USD\"},inplace=True)\n",
    "grp_data_industry=grp_data_industry/1000000\n",
    "grp_data_industry"
   ]
  },
  {
   "cell_type": "markdown",
   "id": "57c87102",
   "metadata": {},
   "source": [
    "### Top 5 Startup Names"
   ]
  },
  {
   "cell_type": "code",
   "execution_count": 19,
   "id": "6d62c410",
   "metadata": {},
   "outputs": [
    {
     "data": {
      "text/plain": [
       "StartupName\n",
       "Paytm           2.140000e+09\n",
       "Flipkart        1.559700e+09\n",
       "Ola             9.845000e+08\n",
       "Snapdeal        7.000000e+08\n",
       "Flipkart.com    7.000000e+08\n",
       "Name: AmountInUSD, dtype: float64"
      ]
     },
     "execution_count": 19,
     "metadata": {},
     "output_type": "execute_result"
    }
   ],
   "source": [
    "grp_data_name=data[['StartupName','AmountInUSD']].groupby('StartupName').sum()['AmountInUSD']\n",
    "grp_data_name.sort_values(ascending=False)[:5]"
   ]
  },
  {
   "cell_type": "markdown",
   "id": "b1f0203d",
   "metadata": {},
   "source": [
    "### Top 5 Startups with Most Funding Rounds"
   ]
  },
  {
   "cell_type": "code",
   "execution_count": 20,
   "id": "fbc650c5",
   "metadata": {},
   "outputs": [
    {
     "data": {
      "text/plain": [
       "StartupName\n",
       "Swiggy           7\n",
       "UrbanClap        5\n",
       "Voonik           4\n",
       "Capital Float    4\n",
       "Flipkart         4\n",
       "Name: AmountInUSD, dtype: int64"
      ]
     },
     "execution_count": 20,
     "metadata": {},
     "output_type": "execute_result"
    }
   ],
   "source": [
    "grp_data_round=data[['StartupName','AmountInUSD']].groupby('StartupName').count()['AmountInUSD']\n",
    "grp_data_round.sort_values(ascending=False)[:5]"
   ]
  },
  {
   "cell_type": "markdown",
   "id": "33b73052",
   "metadata": {},
   "source": [
    "### Top Investor"
   ]
  },
  {
   "cell_type": "code",
   "execution_count": 21,
   "id": "6167924b",
   "metadata": {},
   "outputs": [
    {
     "data": {
      "text/html": [
       "<div>\n",
       "<style scoped>\n",
       "    .dataframe tbody tr th:only-of-type {\n",
       "        vertical-align: middle;\n",
       "    }\n",
       "\n",
       "    .dataframe tbody tr th {\n",
       "        vertical-align: top;\n",
       "    }\n",
       "\n",
       "    .dataframe thead th {\n",
       "        text-align: right;\n",
       "    }\n",
       "</style>\n",
       "<table border=\"1\" class=\"dataframe\">\n",
       "  <thead>\n",
       "    <tr style=\"text-align: right;\">\n",
       "      <th></th>\n",
       "      <th>AmountInUSD</th>\n",
       "    </tr>\n",
       "    <tr>\n",
       "      <th>InvestorsName</th>\n",
       "      <th></th>\n",
       "    </tr>\n",
       "  </thead>\n",
       "  <tbody>\n",
       "    <tr>\n",
       "      <th>Group of Angel Investors</th>\n",
       "      <td>14</td>\n",
       "    </tr>\n",
       "    <tr>\n",
       "      <th>Kalaari Capital</th>\n",
       "      <td>13</td>\n",
       "    </tr>\n",
       "    <tr>\n",
       "      <th>Sequoia Capital</th>\n",
       "      <td>12</td>\n",
       "    </tr>\n",
       "  </tbody>\n",
       "</table>\n",
       "</div>"
      ],
      "text/plain": [
       "                          AmountInUSD\n",
       "InvestorsName                        \n",
       "Group of Angel Investors           14\n",
       "Kalaari Capital                    13\n",
       "Sequoia Capital                    12"
      ]
     },
     "execution_count": 21,
     "metadata": {},
     "output_type": "execute_result"
    }
   ],
   "source": [
    "grp_data_investor=data[['InvestorsName',\"AmountInUSD\"]].groupby(\"InvestorsName\").count()\n",
    "grp_data_investor.sort_values(\"AmountInUSD\",ascending=False)[2:5]"
   ]
  },
  {
   "cell_type": "markdown",
   "id": "b62eb623",
   "metadata": {},
   "source": [
    "# Completed all tasks of the case study (Part-I) as a part of Coding Ninjas ML Course"
   ]
  },
  {
   "cell_type": "code",
   "execution_count": null,
   "id": "06dfb3fe",
   "metadata": {},
   "outputs": [],
   "source": []
  }
 ],
 "metadata": {
  "kernelspec": {
   "display_name": "Python 3 (ipykernel)",
   "language": "python",
   "name": "python3"
  },
  "language_info": {
   "codemirror_mode": {
    "name": "ipython",
    "version": 3
   },
   "file_extension": ".py",
   "mimetype": "text/x-python",
   "name": "python",
   "nbconvert_exporter": "python",
   "pygments_lexer": "ipython3",
   "version": "3.11.5"
  },
  "varInspector": {
   "cols": {
    "lenName": 16,
    "lenType": 16,
    "lenVar": 40
   },
   "kernels_config": {
    "python": {
     "delete_cmd_postfix": "",
     "delete_cmd_prefix": "del ",
     "library": "var_list.py",
     "varRefreshCmd": "print(var_dic_list())"
    },
    "r": {
     "delete_cmd_postfix": ") ",
     "delete_cmd_prefix": "rm(",
     "library": "var_list.r",
     "varRefreshCmd": "cat(var_dic_list()) "
    }
   },
   "types_to_exclude": [
    "module",
    "function",
    "builtin_function_or_method",
    "instance",
    "_Feature"
   ],
   "window_display": false
  }
 },
 "nbformat": 4,
 "nbformat_minor": 5
}
